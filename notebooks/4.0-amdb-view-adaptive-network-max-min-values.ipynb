{
 "cells": [
  {
   "cell_type": "markdown",
   "metadata": {},
   "source": [
    "# Dataset exploration for max-min coordinates boundaries\n",
    "\n",
    "\n",
    "VA-CNN and VA-LSTM require a max-min normalization step. This notebook aims to explore the h5 dataset to find those values.\n",
    "\n",
    "\n",
    "Results are : \n",
    "\n",
    "c_min = -4.657\n",
    "\n",
    "c_max = 5.042"
   ]
  },
  {
   "cell_type": "code",
   "execution_count": 1,
   "metadata": {},
   "outputs": [],
   "source": [
    "import numpy as np\n",
    "import h5py\n",
    "\n",
    "from joints import * \n",
    "\n",
    "ntu_path = \"/media/gnocchi/Seagate Backup Plus Drive/NTU-RGB-D/\"\n",
    "\n",
    "rgb_folder = \"nturgb+d_rgb/\"\n",
    "skeleton_folder = \"nturgb+d_skeletons/\"\n",
    "\n",
    "h5_dataset_path = \"/media/gnocchi/Seagate Backup Plus Drive/NTU-RGB-D/\"\n",
    "dataset_file_name = \"datasets.h5\"\n",
    "log_file_name = \"log.txt\""
   ]
  },
  {
   "cell_type": "code",
   "execution_count": 2,
   "metadata": {},
   "outputs": [],
   "source": [
    "# Take all sample names (56 880)\n",
    "samples_names_list = [line.rstrip('\\n') for line in open(h5_dataset_path + log_file_name)]\n",
    "\n",
    "# Open dataset\n",
    "dataset = h5py.File(h5_dataset_path + dataset_file_name, 'r')"
   ]
  },
  {
   "cell_type": "code",
   "execution_count": 3,
   "metadata": {},
   "outputs": [
    {
     "name": "stdout",
     "output_type": "stream",
     "text": [
      "c_min : -4.656\n",
      "c_max : 5.041\n"
     ]
    }
   ],
   "source": [
    "# Loop through dataset to find c_min and c_max (see VA-LSTM/CNN paper for details)\n",
    "\n",
    "c_min = []\n",
    "c_max = []\n",
    "\n",
    "for sample_name in samples_names_list:\n",
    "    # Retrieve np array\n",
    "    skeleton = dataset[sample_name][\"skeleton\"][:]  # shape (3, max_frame, num_joint=25, 2)\n",
    "    \n",
    "    # Perform normalization step\n",
    "    trans_vector = skeleton[:, 0, Joints.SPINEMID, :] # shape (3, 2)\n",
    "    skeleton = (skeleton.transpose(1, 2, 0, 3) - trans_vector).transpose(2, 0, 1, 3)\n",
    "    \n",
    "    # Update c_min and c_max\n",
    "    c_min.append(np.amin(skeleton))\n",
    "    c_max.append(np.amax(skeleton))\n",
    "\n",
    "print(\"c_min : \" + str(np.amin(c_min)))\n",
    "print(\"c_max : \" + str(np.amax(c_max)))\n",
    "    "
   ]
  },
  {
   "cell_type": "code",
   "execution_count": 4,
   "metadata": {},
   "outputs": [],
   "source": [
    "dataset.close()"
   ]
  }
 ],
 "metadata": {
  "kernelspec": {
   "display_name": "Python 3",
   "language": "python",
   "name": "python3"
  },
  "language_info": {
   "codemirror_mode": {
    "name": "ipython",
    "version": 3
   },
   "file_extension": ".py",
   "mimetype": "text/x-python",
   "name": "python",
   "nbconvert_exporter": "python",
   "pygments_lexer": "ipython3",
   "version": "3.5.2"
  }
 },
 "nbformat": 4,
 "nbformat_minor": 2
}
