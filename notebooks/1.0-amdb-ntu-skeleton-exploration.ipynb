{
 "cells": [
  {
   "cell_type": "markdown",
   "metadata": {},
   "source": [
    "# Exploration of the .skeleton files provided in the NTU-RGB-D dataset"
   ]
  },
  {
   "cell_type": "code",
   "execution_count": 1,
   "metadata": {},
   "outputs": [],
   "source": [
    "import numpy as np\n",
    "import os\n",
    "from joints import *\n",
    "from utils import *"
   ]
  },
  {
   "cell_type": "markdown",
   "metadata": {},
   "source": [
    "## Skeleton numpy array\n",
    "\n",
    "read_xyz(...) returns a (3, max_frame, num_joint=25, 2) numpy array\n",
    "\n",
    "read_color_xy(...) returns (2, max_frame, num_joint=25, 2) numpy array"
   ]
  },
  {
   "cell_type": "code",
   "execution_count": 2,
   "metadata": {},
   "outputs": [
    {
     "name": "stdout",
     "output_type": "stream",
     "text": [
      "===== 3D skeleton =====\n",
      "[[ 0.2181153   0.2323292   0.2457799   0.2128507   0.1109304   0.100875\n",
      "   0.1186992   0.1165352   0.3449145   0.4211396   0.1918999   0.1298675\n",
      "   0.162766    0.1975115   0.2442706   0.2040377   0.2699234   0.3105748\n",
      "   0.3428889   0.2951482   0.2425592   0.1200176   0.0989792   0.08710064\n",
      "   0.1268453 ]\n",
      " [ 0.1725972   0.4326636   0.6877249   0.8079225   0.6111551   0.4286715\n",
      "   0.3428923   0.3173672   0.5740387   0.3847547   0.3189077   0.317039\n",
      "   0.1745395  -0.1360554  -0.4201995  -0.476396    0.1678491  -0.1462299\n",
      "  -0.433214   -0.5017325   0.6247278   0.2955468   0.3459614   0.2988889\n",
      "   0.2813963 ]\n",
      " [ 3.785547    3.714767    3.633897    3.581995    3.716962    3.742593\n",
      "   3.556542    3.550741    3.588655    3.627778    3.540756    3.542577\n",
      "   3.778471    3.904381    4.054147    4.094294    3.730005    3.818383\n",
      "   3.943258    3.968896    3.656055    3.532409    3.527539    3.54619\n",
      "   3.549525  ]]\n",
      "(25, 3, 103)\n",
      "\r\n",
      "===== 2D RGB skeleton =====\n",
      "[[1036.233  1041.918  1047.837  1039.476  1007.479  1004.187  1011.711\n",
      "  1011.131  1078.05   1098.838  1033.77   1015.225  1020.896  1028.12\n",
      "  1037.602  1026.418  1052.036  1060.931  1066.199  1052.752  1046.329\n",
      "  1012.419  1006.227  1002.409  1014.19  ]\n",
      " [ 519.1677  444.3235  367.3966  328.9554  393.5405  446.2603  465.4302\n",
      "   472.8558  398.4594  455.4754  472.192   472.7473  518.4943  604.0775\n",
      "   676.7612  690.1627  519.8357  607.8004  683.3955  700.8542  386.8308\n",
      "   478.8939  463.6581  478.2144  483.5357]]\n"
     ]
    }
   ],
   "source": [
    "skeleton = read_xyz(\"./S001C001P001R001A001.skeleton\") # shape (3, 103, 25, 2)\n",
    "\n",
    "print(\"===== 3D skeleton =====\")\n",
    "print(skeleton[:, 0, :, 0])\n",
    "print(skeleton.transpose(3, 2, 0, 1)[0].shape)\n",
    "\n",
    "print(\"\\r\\n===== 2D RGB skeleton =====\")\n",
    "skeleton_2d = read_color_xy(\"./S001C001P001R001A001.skeleton\")\n",
    "print(skeleton_2d[:, 0, :, 0])"
   ]
  },
  {
   "cell_type": "markdown",
   "metadata": {},
   "source": [
    "## Skeleton animation"
   ]
  },
  {
   "cell_type": "code",
   "execution_count": null,
   "metadata": {},
   "outputs": [],
   "source": [
    "%matplotlib notebook\n",
    "import matplotlib.pyplot as plt\n",
    "import time\n",
    "import mpl_toolkits.mplot3d as plt3d\n",
    "\n",
    "def animateJointCoordinates(joint_coordinates, connexion_tuples):\n",
    "    '''\n",
    "    joint_coordinates : shape(joints, 3, seq_len)\n",
    "    \n",
    "    \n",
    "    '''\n",
    "    fig = plt.figure()\n",
    "    fig.set_size_inches(10,10)\n",
    "    ax = plt.axes(projection='3d')\n",
    "    \n",
    "    plt.ion()\n",
    "    fig.show()\n",
    "    fig.canvas.draw()\n",
    "    \n",
    "    x = 0\n",
    "    y = 2\n",
    "    z = 1\n",
    "\n",
    "    \n",
    "    for t in range(joint_coordinates.shape[2]):\n",
    "        ax.clear()\n",
    "        ax.set_xlim3d(np.amin(joint_coordinates[:, x, :]), np.amax(joint_coordinates[:, x, :]))\n",
    "        ax.set_ylim3d(np.amin(joint_coordinates[:, y, :]), np.amax(joint_coordinates[:, y, :]))\n",
    "        ax.set_zlim3d(np.amin(joint_coordinates[:, z, :]), np.amax(joint_coordinates[:, z, :]))\n",
    "        \n",
    "        ax.scatter(joint_coordinates[:, x, t], joint_coordinates[:, y, t], joint_coordinates[:, z, t])\n",
    "        \n",
    "        \n",
    "        line = plt3d.art3d.Line3D([0.1, 0.1], [0.1, 0.5], [0.1, 0.1])\n",
    "        \n",
    "        head_neck = plt3d.art3d.Line3D([joint_coordinates[0, x, t], joint_coordinates[1, x, t]], \n",
    "                                      [joint_coordinates[0, y, t], joint_coordinates[1, y, t]], \n",
    "                                      [joint_coordinates[0, z, t], joint_coordinates[1, z, t]])\n",
    "        \n",
    "        # ax.add_line(head_neck)\n",
    "        \n",
    "        for i in range(connexion_tuples.shape[0]):\n",
    "            j1 = connexion_tuples[i, 0]\n",
    "            j2 = connexion_tuples[i, 1]\n",
    "            \n",
    "            \n",
    "            joint_line = plt3d.art3d.Line3D([joint_coordinates[j1, x, t], joint_coordinates[j2, x, t]], \n",
    "                                            [joint_coordinates[j1, y, t], joint_coordinates[j2, y, t]], \n",
    "                                            [joint_coordinates[j1, z, t], joint_coordinates[j2, z, t]])\n",
    "            \n",
    "            ax.add_line(joint_line)\n",
    "        \n",
    "        ax.view_init(10, 10)\n",
    "        \n",
    "        fig.canvas.draw()\n",
    "        plt.pause(.001)\n",
    "        # time.sleep(0.01)"
   ]
  },
  {
   "cell_type": "code",
   "execution_count": null,
   "metadata": {},
   "outputs": [],
   "source": [
    "# animateJointCoordinates(skeleton.transpose(3, 2, 0, 1)[0], connexion_tuples)"
   ]
  },
  {
   "cell_type": "markdown",
   "metadata": {},
   "source": [
    "## Video playback\n",
    "\n",
    "Creates a video object of size (seq_len, 1080, 1920, 3)"
   ]
  },
  {
   "cell_type": "code",
   "execution_count": null,
   "metadata": {},
   "outputs": [],
   "source": [
    "import ffmpeg\n",
    "from matplotlib import animation\n",
    "import matplotlib.pyplot as plt\n",
    "from matplotlib.patches import Circle\n",
    "\n"
   ]
  },
  {
   "cell_type": "code",
   "execution_count": null,
   "metadata": {},
   "outputs": [],
   "source": [
    "probe = ffmpeg.probe('./S001C001P001R001A001_rgb.avi')\n",
    "video_info = next(x for x in probe['streams'] if x['codec_type'] == 'video')\n",
    "width = int(video_info['width'])\n",
    "height = int(video_info['height'])\n",
    "num_frames = int(video_info['nb_frames'])\n",
    "print(num_frames)"
   ]
  },
  {
   "cell_type": "code",
   "execution_count": null,
   "metadata": {},
   "outputs": [],
   "source": [
    "out, err = (ffmpeg\n",
    "           .input('./S001C001P001R001A001_rgb.avi')\n",
    "           .output('pipe:', format='rawvideo', pix_fmt='rgb24')\n",
    "           .run(capture_stdout=True)\n",
    ")\n",
    "video = np.frombuffer(out, np.uint8).reshape([-1, height, width, 3])\n",
    "print(video.shape)"
   ]
  },
  {
   "cell_type": "code",
   "execution_count": null,
   "metadata": {},
   "outputs": [],
   "source": [
    "f = plt.figure()\n",
    "ax = f.gca()\n",
    "f.set_size_inches(10,10)\n",
    "\n",
    "image = plt.imshow(video[0], interpolation='None', animated = True)\n",
    "right_hand = Circle((skeleton_2d[0, 0, Joints.HANDRIGHT, 0], skeleton_2d[1, 0, Joints.HANDRIGHT, 0]),15)\n",
    "left_hand = Circle((skeleton_2d[0, 0, Joints.HANDLEFT, 0], skeleton_2d[1, 0, Joints.HANDLEFT, 0]),15)\n",
    "\n",
    "ax.add_patch(right_hand)\n",
    "ax.add_patch(left_hand)\n",
    "\n",
    "plt.axis('off')\n",
    "\n",
    "\n",
    "def videoAnimation(frame_index):\n",
    "    image.set_data(video[frame_index])\n",
    "    [p.remove() for p in ax.patches]\n",
    "    right_hand = Circle((skeleton_2d[0, frame_index, Joints.HANDRIGHT, 0], skeleton_2d[1, frame_index, Joints.HANDRIGHT, 0]),15)\n",
    "    left_hand = Circle((skeleton_2d[0, frame_index, Joints.HANDLEFT, 0], skeleton_2d[1, frame_index, Joints.HANDLEFT, 0]),15)\n",
    "    \n",
    "    ax.add_patch(right_hand)\n",
    "    ax.add_patch(left_hand)\n",
    "    \n",
    "    return image,\n",
    "\n",
    "ani = animation.FuncAnimation(f, videoAnimation, interval = 33, frames = num_frames, repeat = False)\n"
   ]
  },
  {
   "cell_type": "markdown",
   "metadata": {},
   "source": [
    "## Crop around the hands\n",
    "\n",
    "According to \"Pose-conditioned Spatio-Temporal Attention for Human Action Recognition\" https://arxiv.org/pdf/1703.10106.pdf, the crops are 50x50p around hands on NTU dataset. The same cropping dimensions are kept on latter paper STA-Hands by same author.\n"
   ]
  },
  {
   "cell_type": "code",
   "execution_count": null,
   "metadata": {},
   "outputs": [],
   "source": [
    "# Using video for variable from above of shape (seq_len, 1080, 1920, 3)\n",
    "f, (ax1, ax2) = plt.subplots(1, 2, sharey=True)\n",
    "f.set_size_inches(8, 8)\n",
    "ax1.axis('off')\n",
    "ax2.axis('off')\n",
    "\n",
    "left_hand_x = int(skeleton_2d[1, 0, Joints.HANDLEFT, 0])\n",
    "left_hand_y = int(skeleton_2d[0, 0, Joints.HANDLEFT, 0])\n",
    "left_hand_crop = video[0, left_hand_x-25:left_hand_x+25, left_hand_y-25:left_hand_y+25, :]\n",
    "left_hand_crop_plot = ax1.imshow(left_hand_crop)\n",
    "\n",
    "right_hand_x = int(skeleton_2d[1, 0, Joints.HANDRIGHT, 0])\n",
    "right_hand_y = int(skeleton_2d[0, 0, Joints.HANDRIGHT, 0])\n",
    "right_hand_crop = video[0, right_hand_x-25:right_hand_x+25, right_hand_y-25:right_hand_y+25, :]\n",
    "right_hand_crop_plot = ax2.imshow(right_hand_crop)\n",
    "\n",
    "\n",
    "def videoAnimation(frame_index):\n",
    "    left_hand_x = int(skeleton_2d[1, frame_index, Joints.HANDLEFT, 0])\n",
    "    left_hand_y = int(skeleton_2d[0, frame_index, Joints.HANDLEFT, 0])\n",
    "    left_hand_crop = video[frame_index, left_hand_x-25:left_hand_x+25, left_hand_y-25:left_hand_y+25, :]\n",
    "    left_hand_crop_plot.set_data(left_hand_crop)\n",
    "    ax1.set_title(frame_index)\n",
    "    \n",
    "    right_hand_x = int(skeleton_2d[1, frame_index, Joints.HANDRIGHT, 0])\n",
    "    right_hand_y = int(skeleton_2d[0, frame_index, Joints.HANDRIGHT, 0])\n",
    "    right_hand_crop = video[frame_index, right_hand_x-25:right_hand_x+25, right_hand_y-25:right_hand_y+25, :]\n",
    "    right_hand_crop_plot.set_data(right_hand_crop)\n",
    "    ax2.set_title(frame_index)\n",
    "    \n",
    "    \n",
    "    return left_hand_crop_plot, right_hand_crop_plot\n",
    "\n",
    "ani = animation.FuncAnimation(f, videoAnimation, interval = 33, frames = num_frames, repeat = False)\n",
    "\n"
   ]
  },
  {
   "cell_type": "code",
   "execution_count": null,
   "metadata": {},
   "outputs": [],
   "source": []
  }
 ],
 "metadata": {
  "kernelspec": {
   "display_name": "Python 3",
   "language": "python",
   "name": "python3"
  },
  "language_info": {
   "codemirror_mode": {
    "name": "ipython",
    "version": 3
   },
   "file_extension": ".py",
   "mimetype": "text/x-python",
   "name": "python",
   "nbconvert_exporter": "python",
   "pygments_lexer": "ipython3",
   "version": "3.5.2"
  }
 },
 "nbformat": 4,
 "nbformat_minor": 2
}
