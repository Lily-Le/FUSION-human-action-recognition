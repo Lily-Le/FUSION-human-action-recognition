{
 "cells": [
  {
   "cell_type": "markdown",
   "metadata": {},
   "source": [
    "# Exploration of the .skeleton files provided in the NTU-RGB-D dataset"
   ]
  },
  {
   "cell_type": "code",
   "execution_count": null,
   "metadata": {},
   "outputs": [],
   "source": [
    "import numpy as np\n",
    "import os\n",
    "from joints import *"
   ]
  },
  {
   "cell_type": "code",
   "execution_count": null,
   "metadata": {},
   "outputs": [],
   "source": [
    "# Code courtesy of yysijie and the awesome paper ST-GCN\n",
    "# https://github.com/yysijie/st-gcn/\n",
    "def read_skeleton(file):\n",
    "    with open(file, 'r') as f:\n",
    "        skeleton_sequence = {}\n",
    "        skeleton_sequence['numFrame'] = int(f.readline())\n",
    "        skeleton_sequence['frameInfo'] = []\n",
    "        for t in range(skeleton_sequence['numFrame']):\n",
    "            frame_info = {}\n",
    "            frame_info['numBody'] = int(f.readline())\n",
    "            frame_info['bodyInfo'] = []\n",
    "            for m in range(frame_info['numBody']):\n",
    "                body_info = {}\n",
    "                body_info_key = [\n",
    "                    'bodyID', 'clipedEdges', 'handLeftConfidence',\n",
    "                    'handLeftState', 'handRightConfidence', 'handRightState',\n",
    "                    'isResticted', 'leanX', 'leanY', 'trackingState'\n",
    "                ]\n",
    "                body_info = {\n",
    "                    k: float(v)\n",
    "                    for k, v in zip(body_info_key, f.readline().split())\n",
    "                }\n",
    "                body_info['numJoint'] = int(f.readline())\n",
    "                body_info['jointInfo'] = []\n",
    "                for v in range(body_info['numJoint']):\n",
    "                    joint_info_key = [\n",
    "                        'x', 'y', 'z', 'depthX', 'depthY', 'colorX', 'colorY',\n",
    "                        'orientationW', 'orientationX', 'orientationY',\n",
    "                        'orientationZ', 'trackingState'\n",
    "                    ]\n",
    "                    joint_info = {\n",
    "                        k: float(v)\n",
    "                        for k, v in zip(joint_info_key, f.readline().split())\n",
    "                    }\n",
    "                    body_info['jointInfo'].append(joint_info)\n",
    "                frame_info['bodyInfo'].append(body_info)\n",
    "            skeleton_sequence['frameInfo'].append(frame_info)\n",
    "    return skeleton_sequence\n",
    "\n",
    "\n",
    "def read_xyz(file, max_body=2, num_joint=25):\n",
    "    seq_info = read_skeleton(file)\n",
    "    data = np.zeros((3, seq_info['numFrame'], num_joint, max_body))\n",
    "    for n, f in enumerate(seq_info['frameInfo']):\n",
    "        for m, b in enumerate(f['bodyInfo']):\n",
    "            for j, v in enumerate(b['jointInfo']):\n",
    "                if m < max_body and j < num_joint:\n",
    "                    data[:, n, j, m] = [v['x'], v['y'], v['z']]\n",
    "                else:\n",
    "                    pass\n",
    "    return data\n",
    "\n",
    "def read_color_xy(file, max_body=2, num_joint=25):\n",
    "    seq_info = read_skeleton(file)\n",
    "    data = np.zeros((2, seq_info['numFrame'], num_joint, max_body))\n",
    "    \n",
    "    for n, f in enumerate(seq_info['frameInfo']):\n",
    "        for m, b in enumerate(f['bodyInfo']):\n",
    "            for j, v in enumerate(b['jointInfo']):\n",
    "                if m < max_body and j < num_joint:\n",
    "                    data[:, n, j, m] = [v['colorX'], v['colorY']]\n",
    "                else:\n",
    "                    pass\n",
    "    return data"
   ]
  },
  {
   "cell_type": "markdown",
   "metadata": {},
   "source": [
    "## Skeleton numpy array\n",
    "\n",
    "read_xyz(...) returns a (3, max_frame, num_joint=25, 2) numpy array\n",
    "\n",
    "read_color_xy(...) returns (2, max_frame, num_joint=25, 2) numpy array"
   ]
  },
  {
   "cell_type": "code",
   "execution_count": null,
   "metadata": {},
   "outputs": [],
   "source": [
    "skeleton = read_xyz(\"./S001C001P001R001A001.skeleton\") # shape (3, 103, 25, 2)\n",
    "\n",
    "print(\"===== 3D skeleton =====\")\n",
    "print(skeleton[:, 0, :, 0])\n",
    "print(skeleton.transpose(3, 2, 0, 1)[0].shape)\n",
    "\n",
    "print(\"\\r\\n===== 2D RGB skeleton =====\")\n",
    "skeleton_2d = read_color_xy(\"./S001C001P001R001A001.skeleton\")\n",
    "print(skeleton_2d[:, 0, :, 0])"
   ]
  },
  {
   "cell_type": "markdown",
   "metadata": {},
   "source": [
    "## Skeleton animation"
   ]
  },
  {
   "cell_type": "code",
   "execution_count": null,
   "metadata": {},
   "outputs": [],
   "source": [
    "%matplotlib notebook\n",
    "import matplotlib.pyplot as plt\n",
    "import time\n",
    "import mpl_toolkits.mplot3d as plt3d\n",
    "\n",
    "def animateJointCoordinates(joint_coordinates, connexion_tuples):\n",
    "    '''\n",
    "    joint_coordinates : shape(joints, 3, seq_len)\n",
    "    \n",
    "    \n",
    "    '''\n",
    "    fig = plt.figure()\n",
    "    fig.set_size_inches(10,10)\n",
    "    ax = plt.axes(projection='3d')\n",
    "    \n",
    "    plt.ion()\n",
    "    fig.show()\n",
    "    fig.canvas.draw()\n",
    "    \n",
    "    x = 0\n",
    "    y = 2\n",
    "    z = 1\n",
    "\n",
    "    \n",
    "    for t in range(joint_coordinates.shape[2]):\n",
    "        ax.clear()\n",
    "        ax.set_xlim3d(np.amin(joint_coordinates[:, x, :]), np.amax(joint_coordinates[:, x, :]))\n",
    "        ax.set_ylim3d(np.amin(joint_coordinates[:, y, :]), np.amax(joint_coordinates[:, y, :]))\n",
    "        ax.set_zlim3d(np.amin(joint_coordinates[:, z, :]), np.amax(joint_coordinates[:, z, :]))\n",
    "        \n",
    "        ax.scatter(joint_coordinates[:, x, t], joint_coordinates[:, y, t], joint_coordinates[:, z, t])\n",
    "        \n",
    "        \n",
    "        line = plt3d.art3d.Line3D([0.1, 0.1], [0.1, 0.5], [0.1, 0.1])\n",
    "        \n",
    "        head_neck = plt3d.art3d.Line3D([joint_coordinates[0, x, t], joint_coordinates[1, x, t]], \n",
    "                                      [joint_coordinates[0, y, t], joint_coordinates[1, y, t]], \n",
    "                                      [joint_coordinates[0, z, t], joint_coordinates[1, z, t]])\n",
    "        \n",
    "        # ax.add_line(head_neck)\n",
    "        \n",
    "        for i in range(connexion_tuples.shape[0]):\n",
    "            j1 = connexion_tuples[i, 0]\n",
    "            j2 = connexion_tuples[i, 1]\n",
    "            \n",
    "            \n",
    "            joint_line = plt3d.art3d.Line3D([joint_coordinates[j1, x, t], joint_coordinates[j2, x, t]], \n",
    "                                            [joint_coordinates[j1, y, t], joint_coordinates[j2, y, t]], \n",
    "                                            [joint_coordinates[j1, z, t], joint_coordinates[j2, z, t]])\n",
    "            \n",
    "            ax.add_line(joint_line)\n",
    "        \n",
    "        ax.view_init(10, 10)\n",
    "        \n",
    "        fig.canvas.draw()\n",
    "        plt.pause(.001)\n",
    "        # time.sleep(0.01)"
   ]
  },
  {
   "cell_type": "code",
   "execution_count": null,
   "metadata": {},
   "outputs": [],
   "source": [
    "# animateJointCoordinates(skeleton.transpose(3, 2, 0, 1)[0], connexion_tuples)"
   ]
  },
  {
   "cell_type": "markdown",
   "metadata": {},
   "source": [
    "## Video playback\n",
    "\n",
    "Creates a video object of size (seq_len, 1080, 1920, 3)"
   ]
  },
  {
   "cell_type": "code",
   "execution_count": null,
   "metadata": {},
   "outputs": [],
   "source": [
    "import ffmpeg\n",
    "from matplotlib import animation\n",
    "import matplotlib.pyplot as plt\n",
    "from matplotlib.patches import Circle\n",
    "\n"
   ]
  },
  {
   "cell_type": "code",
   "execution_count": null,
   "metadata": {},
   "outputs": [],
   "source": [
    "probe = ffmpeg.probe('./S001C001P001R001A001_rgb.avi')\n",
    "video_info = next(x for x in probe['streams'] if x['codec_type'] == 'video')\n",
    "width = int(video_info['width'])\n",
    "height = int(video_info['height'])\n",
    "num_frames = int(video_info['nb_frames'])\n",
    "print(num_frames)"
   ]
  },
  {
   "cell_type": "code",
   "execution_count": null,
   "metadata": {},
   "outputs": [],
   "source": [
    "out, err = (ffmpeg\n",
    "           .input('./S001C001P001R001A001_rgb.avi')\n",
    "           .output('pipe:', format='rawvideo', pix_fmt='rgb24')\n",
    "           .run(capture_stdout=True)\n",
    ")\n",
    "video = np.frombuffer(out, np.uint8).reshape([-1, height, width, 3])\n",
    "print(video.shape)"
   ]
  },
  {
   "cell_type": "code",
   "execution_count": null,
   "metadata": {},
   "outputs": [],
   "source": [
    "f = plt.figure()\n",
    "ax = f.gca()\n",
    "f.set_size_inches(10,10)\n",
    "\n",
    "image = plt.imshow(video[0], interpolation='None', animated = True)\n",
    "right_hand = Circle((skeleton_2d[0, 0, Joints.HANDRIGHT, 0], skeleton_2d[1, 0, Joints.HANDRIGHT, 0]),15)\n",
    "left_hand = Circle((skeleton_2d[0, 0, Joints.HANDLEFT, 0], skeleton_2d[1, 0, Joints.HANDLEFT, 0]),15)\n",
    "\n",
    "ax.add_patch(right_hand)\n",
    "ax.add_patch(left_hand)\n",
    "\n",
    "plt.axis('off')\n",
    "\n",
    "def videoAnimation(frame_index):\n",
    "    image.set_data(video[frame_index])\n",
    "    [p.remove() for p in ax.patches]\n",
    "    right_hand = Circle((skeleton_2d[0, frame_index, Joints.HANDRIGHT, 0], skeleton_2d[1, frame_index, Joints.HANDRIGHT, 0]),15)\n",
    "    left_hand = Circle((skeleton_2d[0, frame_index, Joints.HANDLEFT, 0], skeleton_2d[1, frame_index, Joints.HANDLEFT, 0]),15)\n",
    "    \n",
    "    ax.add_patch(right_hand)\n",
    "    ax.add_patch(left_hand)\n",
    "    \n",
    "    return image,\n",
    "\n",
    "ani = animation.FuncAnimation(f, videoAnimation, interval = 33, frames = num_frames, repeat = False)"
   ]
  },
  {
   "cell_type": "code",
   "execution_count": null,
   "metadata": {},
   "outputs": [],
   "source": []
  },
  {
   "cell_type": "code",
   "execution_count": null,
   "metadata": {},
   "outputs": [],
   "source": []
  }
 ],
 "metadata": {
  "kernelspec": {
   "display_name": "Python 3",
   "language": "python",
   "name": "python3"
  },
  "language_info": {
   "codemirror_mode": {
    "name": "ipython",
    "version": 3
   },
   "file_extension": ".py",
   "mimetype": "text/x-python",
   "name": "python",
   "nbconvert_exporter": "python",
   "pygments_lexer": "ipython3",
   "version": "3.5.2"
  }
 },
 "nbformat": 4,
 "nbformat_minor": 2
}
